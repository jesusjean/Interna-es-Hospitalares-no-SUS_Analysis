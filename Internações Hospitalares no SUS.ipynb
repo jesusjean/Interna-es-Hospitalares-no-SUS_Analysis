{
 "cells": [
  {
   "cell_type": "code",
   "execution_count": 1,
   "metadata": {},
   "outputs": [],
   "source": [
    "#Importação de bibliotecas\n",
    "import pandas as pd\n",
    "import numpy as np\n",
    "import seaborn as sns\n",
    "import matplotlib.pyplot as plt\n",
    "from matplotlib import pyplot\n",
    "import missingno as msno \n"
   ]
  },
  {
   "cell_type": "code",
   "execution_count": 2,
   "metadata": {},
   "outputs": [],
   "source": [
    "#Leitura dos dados \"Internações Hospitalares no SUS - Ano 2008 - CSV\", arquivo com final 01\n",
    "inter_08_01 =  pd.read_csv(\"RDAC0801.csv\",sep = \",\")"
   ]
  },
  {
   "cell_type": "markdown",
   "metadata": {},
   "source": [
    "#### Análise exploratória"
   ]
  },
  {
   "cell_type": "code",
   "execution_count": 3,
   "metadata": {},
   "outputs": [
    {
     "data": {
      "text/html": [
       "<div>\n",
       "<style scoped>\n",
       "    .dataframe tbody tr th:only-of-type {\n",
       "        vertical-align: middle;\n",
       "    }\n",
       "\n",
       "    .dataframe tbody tr th {\n",
       "        vertical-align: top;\n",
       "    }\n",
       "\n",
       "    .dataframe thead th {\n",
       "        text-align: right;\n",
       "    }\n",
       "</style>\n",
       "<table border=\"1\" class=\"dataframe\">\n",
       "  <thead>\n",
       "    <tr style=\"text-align: right;\">\n",
       "      <th></th>\n",
       "      <th>UF_ZI</th>\n",
       "      <th>ANO_CMPT</th>\n",
       "      <th>MES_CMPT</th>\n",
       "      <th>ESPEC</th>\n",
       "      <th>CGC_HOSP</th>\n",
       "      <th>N_AIH</th>\n",
       "      <th>IDENT</th>\n",
       "      <th>CEP</th>\n",
       "      <th>MUNIC_RES</th>\n",
       "      <th>NASC</th>\n",
       "      <th>...</th>\n",
       "      <th>CID_ASSO</th>\n",
       "      <th>CID_MORTE</th>\n",
       "      <th>COMPLEX</th>\n",
       "      <th>FINANC</th>\n",
       "      <th>FAEC_TP</th>\n",
       "      <th>REGCT</th>\n",
       "      <th>RACA_COR</th>\n",
       "      <th>ETNIA</th>\n",
       "      <th>SEQUENCIA</th>\n",
       "      <th>REMESSA</th>\n",
       "    </tr>\n",
       "  </thead>\n",
       "  <tbody>\n",
       "    <tr>\n",
       "      <th>0</th>\n",
       "      <td>120000</td>\n",
       "      <td>2008</td>\n",
       "      <td>1</td>\n",
       "      <td>1</td>\n",
       "      <td>4034526001549</td>\n",
       "      <td>1207500003006</td>\n",
       "      <td>1</td>\n",
       "      <td>69960000</td>\n",
       "      <td>120030</td>\n",
       "      <td>19250818</td>\n",
       "      <td>...</td>\n",
       "      <td>NaN</td>\n",
       "      <td>NaN</td>\n",
       "      <td>2</td>\n",
       "      <td>4</td>\n",
       "      <td>21014.0</td>\n",
       "      <td>0</td>\n",
       "      <td>1</td>\n",
       "      <td>NaN</td>\n",
       "      <td>108</td>\n",
       "      <td>HE12000001N200801.DTS</td>\n",
       "    </tr>\n",
       "    <tr>\n",
       "      <th>1</th>\n",
       "      <td>120000</td>\n",
       "      <td>2008</td>\n",
       "      <td>1</td>\n",
       "      <td>1</td>\n",
       "      <td>4034526001549</td>\n",
       "      <td>1208100031853</td>\n",
       "      <td>1</td>\n",
       "      <td>69960000</td>\n",
       "      <td>120030</td>\n",
       "      <td>19820715</td>\n",
       "      <td>...</td>\n",
       "      <td>NaN</td>\n",
       "      <td>NaN</td>\n",
       "      <td>2</td>\n",
       "      <td>6</td>\n",
       "      <td>NaN</td>\n",
       "      <td>0</td>\n",
       "      <td>3</td>\n",
       "      <td>NaN</td>\n",
       "      <td>109</td>\n",
       "      <td>HE12000001N200801.DTS</td>\n",
       "    </tr>\n",
       "    <tr>\n",
       "      <th>2</th>\n",
       "      <td>120000</td>\n",
       "      <td>2008</td>\n",
       "      <td>1</td>\n",
       "      <td>1</td>\n",
       "      <td>4034526001549</td>\n",
       "      <td>1208100031941</td>\n",
       "      <td>1</td>\n",
       "      <td>69960000</td>\n",
       "      <td>120030</td>\n",
       "      <td>19880302</td>\n",
       "      <td>...</td>\n",
       "      <td>NaN</td>\n",
       "      <td>NaN</td>\n",
       "      <td>2</td>\n",
       "      <td>6</td>\n",
       "      <td>NaN</td>\n",
       "      <td>0</td>\n",
       "      <td>3</td>\n",
       "      <td>NaN</td>\n",
       "      <td>110</td>\n",
       "      <td>HE12000001N200801.DTS</td>\n",
       "    </tr>\n",
       "    <tr>\n",
       "      <th>3</th>\n",
       "      <td>120000</td>\n",
       "      <td>2008</td>\n",
       "      <td>1</td>\n",
       "      <td>1</td>\n",
       "      <td>4034526001549</td>\n",
       "      <td>1208100032910</td>\n",
       "      <td>1</td>\n",
       "      <td>69960000</td>\n",
       "      <td>120030</td>\n",
       "      <td>19910319</td>\n",
       "      <td>...</td>\n",
       "      <td>NaN</td>\n",
       "      <td>NaN</td>\n",
       "      <td>2</td>\n",
       "      <td>6</td>\n",
       "      <td>NaN</td>\n",
       "      <td>0</td>\n",
       "      <td>3</td>\n",
       "      <td>NaN</td>\n",
       "      <td>113</td>\n",
       "      <td>HE12000001N200801.DTS</td>\n",
       "    </tr>\n",
       "    <tr>\n",
       "      <th>4</th>\n",
       "      <td>120000</td>\n",
       "      <td>2008</td>\n",
       "      <td>1</td>\n",
       "      <td>1</td>\n",
       "      <td>4034526001549</td>\n",
       "      <td>1208100032964</td>\n",
       "      <td>1</td>\n",
       "      <td>69960000</td>\n",
       "      <td>120030</td>\n",
       "      <td>19910204</td>\n",
       "      <td>...</td>\n",
       "      <td>NaN</td>\n",
       "      <td>NaN</td>\n",
       "      <td>2</td>\n",
       "      <td>6</td>\n",
       "      <td>NaN</td>\n",
       "      <td>0</td>\n",
       "      <td>3</td>\n",
       "      <td>NaN</td>\n",
       "      <td>115</td>\n",
       "      <td>HE12000001N200801.DTS</td>\n",
       "    </tr>\n",
       "  </tbody>\n",
       "</table>\n",
       "<p>5 rows × 86 columns</p>\n",
       "</div>"
      ],
      "text/plain": [
       "    UF_ZI  ANO_CMPT  MES_CMPT  ESPEC       CGC_HOSP          N_AIH  IDENT  \\\n",
       "0  120000      2008         1      1  4034526001549  1207500003006      1   \n",
       "1  120000      2008         1      1  4034526001549  1208100031853      1   \n",
       "2  120000      2008         1      1  4034526001549  1208100031941      1   \n",
       "3  120000      2008         1      1  4034526001549  1208100032910      1   \n",
       "4  120000      2008         1      1  4034526001549  1208100032964      1   \n",
       "\n",
       "        CEP  MUNIC_RES      NASC  ...  CID_ASSO  CID_MORTE  COMPLEX  FINANC  \\\n",
       "0  69960000     120030  19250818  ...       NaN        NaN        2       4   \n",
       "1  69960000     120030  19820715  ...       NaN        NaN        2       6   \n",
       "2  69960000     120030  19880302  ...       NaN        NaN        2       6   \n",
       "3  69960000     120030  19910319  ...       NaN        NaN        2       6   \n",
       "4  69960000     120030  19910204  ...       NaN        NaN        2       6   \n",
       "\n",
       "   FAEC_TP  REGCT  RACA_COR  ETNIA  SEQUENCIA                REMESSA  \n",
       "0  21014.0      0         1    NaN        108  HE12000001N200801.DTS  \n",
       "1      NaN      0         3    NaN        109  HE12000001N200801.DTS  \n",
       "2      NaN      0         3    NaN        110  HE12000001N200801.DTS  \n",
       "3      NaN      0         3    NaN        113  HE12000001N200801.DTS  \n",
       "4      NaN      0         3    NaN        115  HE12000001N200801.DTS  \n",
       "\n",
       "[5 rows x 86 columns]"
      ]
     },
     "execution_count": 3,
     "metadata": {},
     "output_type": "execute_result"
    }
   ],
   "source": [
    "inter_08_01.head()"
   ]
  },
  {
   "cell_type": "code",
   "execution_count": 4,
   "metadata": {},
   "outputs": [
    {
     "name": "stdout",
     "output_type": "stream",
     "text": [
      "Numero de linhas e colunas(2087, 86)\n"
     ]
    }
   ],
   "source": [
    "print(\"Numero de linhas e colunas\"  + str(inter_08_01.shape))"
   ]
  },
  {
   "cell_type": "code",
   "execution_count": 5,
   "metadata": {},
   "outputs": [
    {
     "data": {
      "text/plain": [
       "Index(['UF_ZI', 'ANO_CMPT', 'MES_CMPT', 'ESPEC', 'CGC_HOSP', 'N_AIH', 'IDENT',\n",
       "       'CEP', 'MUNIC_RES', 'NASC', 'SEXO', 'UTI_MES_IN', 'UTI_MES_AN',\n",
       "       'UTI_MES_AL', 'UTI_MES_TO', 'MARCA_UTI', 'UTI_INT_IN', 'UTI_INT_AN',\n",
       "       'UTI_INT_AL', 'UTI_INT_TO', 'DIAR_ACOM', 'QT_DIARIAS', 'PROC_SOLIC',\n",
       "       'PROC_REA', 'VAL_SH', 'VAL_SP', 'VAL_SADT', 'VAL_RN', 'VAL_ACOMP',\n",
       "       'VAL_ORTP', 'VAL_SANGUE', 'VAL_SADTSR', 'VAL_TRANSP', 'VAL_OBSANG',\n",
       "       'VAL_PED1AC', 'VAL_TOT', 'VAL_UTI', 'US_TOT', 'DT_INTER', 'DT_SAIDA',\n",
       "       'DIAG_PRINC', 'DIAG_SECUN', 'COBRANCA', 'NATUREZA', 'GESTAO', 'RUBRICA',\n",
       "       'IND_VDRL', 'MUNIC_MOV', 'COD_IDADE', 'IDADE', 'DIAS_PERM', 'MORTE',\n",
       "       'NACIONAL', 'NUM_PROC', 'CAR_INT', 'TOT_PT_SP', 'CPF_AUT', 'HOMONIMO',\n",
       "       'NUM_FILHOS', 'INSTRU', 'CID_NOTIF', 'CONTRACEP1', 'CONTRACEP2',\n",
       "       'GESTRISCO', 'INSC_PN', 'SEQ_AIH5', 'CBOR', 'CNAER', 'VINCPREV',\n",
       "       'GESTOR_COD', 'GESTOR_TP', 'GESTOR_CPF', 'GESTOR_DT', 'CNES',\n",
       "       'CNPJ_MANT', 'INFEHOSP', 'CID_ASSO', 'CID_MORTE', 'COMPLEX', 'FINANC',\n",
       "       'FAEC_TP', 'REGCT', 'RACA_COR', 'ETNIA', 'SEQUENCIA', 'REMESSA'],\n",
       "      dtype='object')"
      ]
     },
     "execution_count": 5,
     "metadata": {},
     "output_type": "execute_result"
    }
   ],
   "source": [
    "#Lista contendo todas as colunas\n",
    "inter_08_01.columns"
   ]
  },
  {
   "cell_type": "code",
   "execution_count": 6,
   "metadata": {},
   "outputs": [
    {
     "name": "stdout",
     "output_type": "stream",
     "text": [
      "<class 'pandas.core.frame.DataFrame'>\n",
      "RangeIndex: 2087 entries, 0 to 2086\n",
      "Data columns (total 86 columns):\n",
      "UF_ZI         2087 non-null int64\n",
      "ANO_CMPT      2087 non-null int64\n",
      "MES_CMPT      2087 non-null int64\n",
      "ESPEC         2087 non-null int64\n",
      "CGC_HOSP      2087 non-null int64\n",
      "N_AIH         2087 non-null int64\n",
      "IDENT         2087 non-null int64\n",
      "CEP           2087 non-null int64\n",
      "MUNIC_RES     2087 non-null int64\n",
      "NASC          2087 non-null int64\n",
      "SEXO          2087 non-null int64\n",
      "UTI_MES_IN    2087 non-null int64\n",
      "UTI_MES_AN    2087 non-null int64\n",
      "UTI_MES_AL    2087 non-null int64\n",
      "UTI_MES_TO    2087 non-null int64\n",
      "MARCA_UTI     2087 non-null int64\n",
      "UTI_INT_IN    2087 non-null int64\n",
      "UTI_INT_AN    2087 non-null int64\n",
      "UTI_INT_AL    2087 non-null int64\n",
      "UTI_INT_TO    2087 non-null int64\n",
      "DIAR_ACOM     2087 non-null int64\n",
      "QT_DIARIAS    2087 non-null int64\n",
      "PROC_SOLIC    2087 non-null int64\n",
      "PROC_REA      2087 non-null int64\n",
      "VAL_SH        2087 non-null float64\n",
      "VAL_SP        2087 non-null float64\n",
      "VAL_SADT      2087 non-null float64\n",
      "VAL_RN        2087 non-null float64\n",
      "VAL_ACOMP     2087 non-null float64\n",
      "VAL_ORTP      2087 non-null float64\n",
      "VAL_SANGUE    2087 non-null float64\n",
      "VAL_SADTSR    2087 non-null float64\n",
      "VAL_TRANSP    2087 non-null float64\n",
      "VAL_OBSANG    2087 non-null float64\n",
      "VAL_PED1AC    2087 non-null float64\n",
      "VAL_TOT       2087 non-null float64\n",
      "VAL_UTI       2087 non-null float64\n",
      "US_TOT        2087 non-null float64\n",
      "DT_INTER      2087 non-null int64\n",
      "DT_SAIDA      2087 non-null int64\n",
      "DIAG_PRINC    2087 non-null object\n",
      "DIAG_SECUN    144 non-null object\n",
      "COBRANCA      2087 non-null int64\n",
      "NATUREZA      2087 non-null int64\n",
      "GESTAO        2087 non-null int64\n",
      "RUBRICA       2087 non-null int64\n",
      "IND_VDRL      2087 non-null int64\n",
      "MUNIC_MOV     2087 non-null int64\n",
      "COD_IDADE     2087 non-null int64\n",
      "IDADE         2087 non-null int64\n",
      "DIAS_PERM     2087 non-null int64\n",
      "MORTE         2087 non-null int64\n",
      "NACIONAL      2087 non-null int64\n",
      "NUM_PROC      0 non-null float64\n",
      "CAR_INT       2087 non-null int64\n",
      "TOT_PT_SP     2087 non-null int64\n",
      "CPF_AUT       0 non-null float64\n",
      "HOMONIMO      2087 non-null int64\n",
      "NUM_FILHOS    2087 non-null int64\n",
      "INSTRU        2087 non-null int64\n",
      "CID_NOTIF     13 non-null object\n",
      "CONTRACEP1    2087 non-null int64\n",
      "CONTRACEP2    2087 non-null int64\n",
      "GESTRISCO     2087 non-null int64\n",
      "INSC_PN       2087 non-null int64\n",
      "SEQ_AIH5      2087 non-null int64\n",
      "CBOR          2087 non-null int64\n",
      "CNAER         2087 non-null int64\n",
      "VINCPREV      2087 non-null int64\n",
      "GESTOR_COD    0 non-null float64\n",
      "GESTOR_TP     2087 non-null int64\n",
      "GESTOR_CPF    2087 non-null int64\n",
      "GESTOR_DT     0 non-null float64\n",
      "CNES          2087 non-null int64\n",
      "CNPJ_MANT     1767 non-null float64\n",
      "INFEHOSP      0 non-null float64\n",
      "CID_ASSO      5 non-null object\n",
      "CID_MORTE     34 non-null object\n",
      "COMPLEX       2087 non-null int64\n",
      "FINANC        2087 non-null int64\n",
      "FAEC_TP       64 non-null float64\n",
      "REGCT         2087 non-null int64\n",
      "RACA_COR      2087 non-null int64\n",
      "ETNIA         0 non-null float64\n",
      "SEQUENCIA     2087 non-null int64\n",
      "REMESSA       2087 non-null object\n",
      "dtypes: float64(22), int64(58), object(6)\n",
      "memory usage: 1.4+ MB\n"
     ]
    }
   ],
   "source": [
    "#Análise dos tipos de entradas\n",
    "inter_08_01.info()"
   ]
  },
  {
   "cell_type": "markdown",
   "metadata": {},
   "source": [
    "#### Limpeza de dados"
   ]
  },
  {
   "cell_type": "code",
   "execution_count": 7,
   "metadata": {},
   "outputs": [
    {
     "data": {
      "image/png": "[encoded data removed]",
      "text/plain": [
       "<Figure size 1800x720 with 2 Axes>"
      ]
     },
     "metadata": {
      "needs_background": "light"
     },
     "output_type": "display_data"
    }
   ],
   "source": [
    "#Verificando valores faltantes (NAN)\n",
    "msno.matrix(inter_08_01);"
   ]
  },
  {
   "cell_type": "markdown",
   "metadata": {},
   "source": [
    "Atraves deste gráfico pode-se constatar que algumas colunas podem ser descartadas"
   ]
  },
  {
   "cell_type": "markdown",
   "metadata": {},
   "source": [
    "##### Rastreando colunas com uma quantidade de NaN maiores que 70% do numero total de linhas"
   ]
  },
  {
   "cell_type": "code",
   "execution_count": 8,
   "metadata": {},
   "outputs": [
    {
     "name": "stdout",
     "output_type": "stream",
     "text": [
      "['DIAG_SECUN', 'NUM_PROC', 'CPF_AUT', 'CID_NOTIF', 'GESTOR_COD', 'GESTOR_DT', 'INFEHOSP', 'CID_ASSO', 'CID_MORTE', 'FAEC_TP', 'ETNIA']\n"
     ]
    }
   ],
   "source": [
    "#Gerando lista de colunas a serem excluidas\n",
    "colunas  = inter_08_01.columns\n",
    "lista_excluir = []\n",
    "for coluna in colunas:\n",
    "    if (pd.isnull(inter_08_01[coluna]).sum()) >= (0.7 * len(inter_08_01.index)):\n",
    "        lista_excluir.append(coluna)\n",
    "print(lista_excluir)  "
   ]
  },
  {
   "cell_type": "code",
   "execution_count": 9,
   "metadata": {},
   "outputs": [],
   "source": [
    "#Excluindo as colunas\n",
    "inter_08_01.drop(lista_excluir,inplace=True,axis=1)"
   ]
  },
  {
   "cell_type": "code",
   "execution_count": 10,
   "metadata": {},
   "outputs": [
    {
     "data": {
      "text/plain": [
       "(2087, 75)"
      ]
     },
     "execution_count": 10,
     "metadata": {},
     "output_type": "execute_result"
    }
   ],
   "source": [
    "inter_08_01.shape"
   ]
  },
  {
   "cell_type": "markdown",
   "metadata": {},
   "source": [
    "11 linhas foram excluidas"
   ]
  },
  {
   "cell_type": "code",
   "execution_count": 16,
   "metadata": {},
   "outputs": [
    {
     "data": {
      "text/plain": [
       "UF_ZI            1\n",
       "ANO_CMPT         1\n",
       "MES_CMPT         1\n",
       "ESPEC            5\n",
       "CGC_HOSP        17\n",
       "N_AIH         2087\n",
       "IDENT            1\n",
       "CEP             33\n",
       "MUNIC_RES       29\n",
       "NASC          1930\n",
       "SEXO             2\n",
       "UTI_MES_IN       1\n",
       "UTI_MES_AN       1\n",
       "UTI_MES_AL       1\n",
       "UTI_MES_TO       6\n",
       "MARCA_UTI        3\n",
       "UTI_INT_IN       1\n",
       "UTI_INT_AN       1\n",
       "UTI_INT_AL       1\n",
       "UTI_INT_TO       1\n",
       "DIAR_ACOM       20\n",
       "QT_DIARIAS      37\n",
       "PROC_SOLIC     195\n",
       "PROC_REA       195\n",
       "VAL_SH         514\n",
       "VAL_SP         259\n",
       "VAL_SADT         1\n",
       "VAL_RN           1\n",
       "VAL_ACOMP        1\n",
       "VAL_ORTP         1\n",
       "              ... \n",
       "IND_VDRL         2\n",
       "MUNIC_MOV       10\n",
       "COD_IDADE        3\n",
       "IDADE           94\n",
       "DIAS_PERM       40\n",
       "MORTE            2\n",
       "NACIONAL         3\n",
       "CAR_INT          4\n",
       "TOT_PT_SP        1\n",
       "HOMONIMO         2\n",
       "NUM_FILHOS       6\n",
       "INSTRU           3\n",
       "CONTRACEP1       3\n",
       "CONTRACEP2       2\n",
       "GESTRISCO        2\n",
       "INSC_PN        386\n",
       "SEQ_AIH5         1\n",
       "CBOR             1\n",
       "CNAER            1\n",
       "VINCPREV         1\n",
       "GESTOR_TP        1\n",
       "GESTOR_CPF       2\n",
       "CNES            17\n",
       "CNPJ_MANT        2\n",
       "COMPLEX          2\n",
       "FINANC           2\n",
       "REGCT            1\n",
       "RACA_COR         6\n",
       "SEQUENCIA     2087\n",
       "REMESSA          1\n",
       "Length: 75, dtype: int64"
      ]
     },
     "execution_count": 16,
     "metadata": {},
     "output_type": "execute_result"
    }
   ],
   "source": [
    "#Verificando dados categóricos\n",
    "inter_08_01.nunique()"
   ]
  },
  {
   "cell_type": "markdown",
   "metadata": {},
   "source": [
    "#### Análise exploratória - Raça_Cor"
   ]
  },
  {
   "cell_type": "code",
   "execution_count": 11,
   "metadata": {},
   "outputs": [
    {
     "data": {
      "text/plain": [
       "3     77.719214\n",
       "99    15.860086\n",
       "1      4.456157\n",
       "2      1.149976\n",
       "5      0.766651\n",
       "4      0.047916\n",
       "Name: RACA_COR, dtype: float64"
      ]
     },
     "execution_count": 11,
     "metadata": {},
     "output_type": "execute_result"
    }
   ],
   "source": [
    "#Porcentangem de internações de Raça_Cor\n",
    "inter_08_01['RACA_COR'].value_counts(normalize=True)*100"
   ]
  },
  {
   "cell_type": "code",
   "execution_count": 12,
   "metadata": {},
   "outputs": [
    {
     "data": {
      "text/plain": [
       "Text(0, 0.5, 'Frequência')"
      ]
     },
     "execution_count": 12,
     "metadata": {},
     "output_type": "execute_result"
    },
    {
     "data": {
      "image/png": "[encoded data removed]",
      "text/plain": [
       "<Figure size 1152x432 with 1 Axes>"
      ]
     },
     "metadata": {
      "needs_background": "light"
     },
     "output_type": "display_data"
    }
   ],
   "source": [
    "plt.figure(figsize=(16, 6))\n",
    "sns.countplot(inter_08_01['RACA_COR'])\n",
    "plt.xlabel(\"Raça_Cor\", fontsize=15)\n",
    "plt.ylabel(\"Frequência\",fontsize=15)\n",
    "\n"
   ]
  },
  {
   "cell_type": "markdown",
   "metadata": {},
   "source": [
    "Grande maioria das pessoas internadas (77%) tem raça_cor do tipo 3"
   ]
  },
  {
   "cell_type": "markdown",
   "metadata": {},
   "source": [
    "#### Próximos passos"
   ]
  },
  {
   "cell_type": "markdown",
   "metadata": {},
   "source": [
    "Meu próximo passo seria analisar todos os dados categóricos, para então investigar quais são os principais motivos de internação, quais são as doenças que mais levaram os pacientes a óbito, e talvez montar uma \"persona\" dos pacientes, talvez através de uma clusterização.\n",
    "\n",
    "Uma vez tendo feito uma análise satisfatória eu importaria a biblioteca 'Beautiful Soup',  faria um 'web scraping' do datasus, extraindo todos os csvs e mesclando eles, gerando um único dataframe  por ano. Assim com um dataframe mais completo eu atualizaria minha análise já realizada com o novo Dataframe gerado pela web scraping.\n"
   ]
  },
  {
   "cell_type": "code",
   "execution_count": null,
   "metadata": {},
   "outputs": [],
   "source": []
  }
 ],
 "metadata": {
  "kernelspec": {
   "display_name": "Python 3",
   "language": "python",
   "name": "python3"
  },
  "language_info": {
   "codemirror_mode": {
    "name": "ipython",
    "version": 3
   },
   "file_extension": ".py",
   "mimetype": "text/x-python",
   "name": "python",
   "nbconvert_exporter": "python",
   "pygments_lexer": "ipython3",
   "version": "3.7.3"
  }
 },
 "nbformat": 4,
 "nbformat_minor": 2
}
